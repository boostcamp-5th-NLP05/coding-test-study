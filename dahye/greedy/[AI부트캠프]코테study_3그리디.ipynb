{
 "cells": [
  {
   "cell_type": "markdown",
   "metadata": {},
   "source": [
    "# CHAPTER03 그리디\n",
    "\n",
    "## 현재 상황에서 가장 좋아 보이는 것만을 선택하는 알고리즘\n",
    "\n",
    "- 거스름돈 문제를 그리디 알고리즘으로 해결할 수 있는 이유는 가지고 있는 동전 중에서 큰 단위가 항상 작은 단위의 배수이기 때문\n",
    "- 최소한의 아이디어를 떠올리고 이것이 정당한지 검토"
   ]
  },
  {
   "cell_type": "markdown",
   "metadata": {},
   "source": [
    "### 2. 큰 수의 법칙"
   ]
  },
  {
   "cell_type": "code",
   "execution_count": 5,
   "metadata": {},
   "outputs": [
    {
     "name": "stdout",
     "output_type": "stream",
     "text": [
      "n, m, k 공백으로 입력5 8 3\n",
      "2 4 5 4 6\n",
      "46\n"
     ]
    }
   ],
   "source": [
    "n, m, k = input('n, m, k 공백으로 입력').split()\n",
    "n = int(n)\n",
    "m = int(m)\n",
    "k = int(k)\n",
    "\n",
    "data = list(input().split())\n",
    "\n",
    "#code\n",
    "\n",
    "data.sort()\n",
    "data1 = int(data[-1])\n",
    "data2 = int(data[-2])\n",
    "\n",
    "temp = 0\n",
    "result = 0\n",
    "for i in range(m):\n",
    "    if temp == k :\n",
    "        temp = 0\n",
    "        result += data2\n",
    "    else :\n",
    "        result += data1\n",
    "        temp += 1\n",
    "print(result)"
   ]
  },
  {
   "cell_type": "markdown",
   "metadata": {},
   "source": [
    "### 3. 숫자 카드 게임"
   ]
  },
  {
   "cell_type": "code",
   "execution_count": 12,
   "metadata": {},
   "outputs": [
    {
     "name": "stdout",
     "output_type": "stream",
     "text": [
      "n, m 공백으로 입력2 4\n",
      "7 3 1 8\n",
      "3 3 3 4\n",
      "3\n"
     ]
    }
   ],
   "source": [
    "n, m = input('n, m 공백으로 입력').split()\n",
    "n = int(n)\n",
    "m = int(m)\n",
    "\n",
    "data = []\n",
    "for i in range(n):\n",
    "    data.append(list(input().split()))\n",
    "\n",
    "#code\n",
    "\n",
    "result_list = []\n",
    "for j in range(n):\n",
    "    result_list.append(min(data[j]))\n",
    "print(max(result_list))"
   ]
  },
  {
   "cell_type": "markdown",
   "metadata": {},
   "source": [
    "### 4. 1이 될 때까지"
   ]
  },
  {
   "cell_type": "code",
   "execution_count": 18,
   "metadata": {},
   "outputs": [
    {
     "name": "stdout",
     "output_type": "stream",
     "text": [
      "n, k 공백으로 입력17 4\n",
      "3\n"
     ]
    }
   ],
   "source": [
    "n, k = input('n, k 공백으로 입력').split()\n",
    "\n",
    "n = int(n)\n",
    "k = int(k)\n",
    "\n",
    "#code\n",
    "\n",
    "count = 0\n",
    "while n != 1:\n",
    "    if n%k == 0:\n",
    "        n = n//k\n",
    "    else:\n",
    "        n -= 1\n",
    "    count += 1\n",
    "        \n",
    "print(count)"
   ]
  },
  {
   "cell_type": "code",
   "execution_count": null,
   "metadata": {},
   "outputs": [],
   "source": []
  },
  {
   "cell_type": "code",
   "execution_count": null,
   "metadata": {},
   "outputs": [],
   "source": []
  },
  {
   "cell_type": "code",
   "execution_count": null,
   "metadata": {},
   "outputs": [],
   "source": []
  }
 ],
 "metadata": {
  "kernelspec": {
   "display_name": "Python 3",
   "language": "python",
   "name": "python3"
  },
  "language_info": {
   "codemirror_mode": {
    "name": "ipython",
    "version": 3
   },
   "file_extension": ".py",
   "mimetype": "text/x-python",
   "name": "python",
   "nbconvert_exporter": "python",
   "pygments_lexer": "ipython3",
   "version": "3.8.3"
  }
 },
 "nbformat": 4,
 "nbformat_minor": 4
}
